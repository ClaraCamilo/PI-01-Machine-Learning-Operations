{
 "cells": [
  {
   "attachments": {},
   "cell_type": "markdown",
   "metadata": {},
   "source": [
    " # Sistema de recomendación basado en contenido"
   ]
  },
  {
   "cell_type": "code",
   "execution_count": 1,
   "metadata": {},
   "outputs": [],
   "source": [
    "import pandas as pd\n",
    "from sklearn.metrics.pairwise import cosine_similarity\n",
    "import pickle\n",
    "import numpy as np\n"
   ]
  },
  {
   "cell_type": "code",
   "execution_count": 2,
   "metadata": {},
   "outputs": [],
   "source": [
    "df_modelo = pd.read_csv(\"database\\modelo.csv\")"
   ]
  },
  {
   "attachments": {},
   "cell_type": "markdown",
   "metadata": {},
   "source": [
    "Sacamos la columna titulo ya que el modelo lo permite texto y dejo los primeros 2000 registros para que el modelo no pese tanto"
   ]
  },
  {
   "cell_type": "code",
   "execution_count": 19,
   "metadata": {},
   "outputs": [],
   "source": [
    "df_modelo1 = df_modelo.head(1000).drop([\"title\"], axis=1)"
   ]
  },
  {
   "cell_type": "code",
   "execution_count": 20,
   "metadata": {},
   "outputs": [
    {
     "data": {
      "text/plain": [
       "(1000, 39)"
      ]
     },
     "execution_count": 20,
     "metadata": {},
     "output_type": "execute_result"
    }
   ],
   "source": [
    "df_modelo1.shape"
   ]
  },
  {
   "cell_type": "code",
   "execution_count": 21,
   "metadata": {},
   "outputs": [],
   "source": [
    "# Calcular la matriz de similitud del coseno\n",
    "cosine_sim = cosine_similarity(df_modelo1)"
   ]
  },
  {
   "cell_type": "code",
   "execution_count": 22,
   "metadata": {},
   "outputs": [
    {
     "data": {
      "text/plain": [
       "1000000"
      ]
     },
     "execution_count": 22,
     "metadata": {},
     "output_type": "execute_result"
    }
   ],
   "source": [
    "cosine_sim.size"
   ]
  },
  {
   "cell_type": "code",
   "execution_count": 23,
   "metadata": {},
   "outputs": [],
   "source": [
    "with open(\"cosine.pkl\", 'wb') as file:  \n",
    "    pickle.dump(cosine_sim, file)"
   ]
  },
  {
   "attachments": {},
   "cell_type": "markdown",
   "metadata": {},
   "source": [
    "Realizo la función que luego utilizaré en la API"
   ]
  },
  {
   "cell_type": "code",
   "execution_count": 8,
   "metadata": {},
   "outputs": [],
   "source": [
    "def recomendacion(titulo):\n",
    "    #Convertir el titulo en el id de la película\n",
    "    for index, value in df_modelo[\"title\"].iteritems():\n",
    "        if value == titulo:\n",
    "            id_pelicula = df_modelo.loc[index, \"id\"]\n",
    "    \n",
    "    # Obtener el índice de la película de interés\n",
    "    indice_pelicula = df_modelo1[df_modelo1['id'] == id_pelicula].index[0]\n",
    "\n",
    "    # Obtener los puntajes de similitud para todas las películas\n",
    "    sim_scores = list(enumerate(cosine_sim[indice_pelicula]))\n",
    "\n",
    "    # Ordenar las películas por puntaje de similitud en orden descendente\n",
    "    sim_scores = sorted(sim_scores, key=lambda x: x[1], reverse=True)\n",
    "\n",
    "    # Obtener los top_n índices de las películas más similares (excluyendo la película de interés)\n",
    "    top_indices = [item[0] for item in sim_scores[1:6]]\n",
    "\n",
    "    # Obtener los ID de las películas más recomendadas\n",
    "    top_recomendaciones = df_modelo1.loc[top_indices, 'id'].tolist()\n",
    "    \n",
    "    #Convertir los id recomendados a los titulos de peliculas\n",
    "    titulos_recomendados = df_modelo.loc[df_modelo[\"id\"].isin(top_recomendaciones), \"title\"].tolist()\n",
    "    \n",
    "    return {'lista recomendada': titulos_recomendados}"
   ]
  },
  {
   "cell_type": "code",
   "execution_count": 9,
   "metadata": {},
   "outputs": [
    {
     "name": "stderr",
     "output_type": "stream",
     "text": [
      "C:\\Users\\Clarita\\AppData\\Local\\Temp\\ipykernel_11888\\2796635061.py:3: FutureWarning: iteritems is deprecated and will be removed in a future version. Use .items instead.\n",
      "  for index, value in df_modelo[\"title\"].iteritems():\n"
     ]
    },
    {
     "ename": "NameError",
     "evalue": "name 'cosine_sim' is not defined",
     "output_type": "error",
     "traceback": [
      "\u001b[1;31m---------------------------------------------------------------------------\u001b[0m",
      "\u001b[1;31mNameError\u001b[0m                                 Traceback (most recent call last)",
      "Cell \u001b[1;32mIn[9], line 1\u001b[0m\n\u001b[1;32m----> 1\u001b[0m recomendacion(\u001b[39m\"\u001b[39;49m\u001b[39mToy Story\u001b[39;49m\u001b[39m\"\u001b[39;49m)\n",
      "Cell \u001b[1;32mIn[8], line 11\u001b[0m, in \u001b[0;36mrecomendacion\u001b[1;34m(titulo)\u001b[0m\n\u001b[0;32m      8\u001b[0m indice_pelicula \u001b[39m=\u001b[39m df_modelo1[df_modelo1[\u001b[39m'\u001b[39m\u001b[39mid\u001b[39m\u001b[39m'\u001b[39m] \u001b[39m==\u001b[39m id_pelicula]\u001b[39m.\u001b[39mindex[\u001b[39m0\u001b[39m]\n\u001b[0;32m     10\u001b[0m \u001b[39m# Obtener los puntajes de similitud para todas las películas\u001b[39;00m\n\u001b[1;32m---> 11\u001b[0m sim_scores \u001b[39m=\u001b[39m \u001b[39mlist\u001b[39m(\u001b[39menumerate\u001b[39m(cosine_sim[indice_pelicula]))\n\u001b[0;32m     13\u001b[0m \u001b[39m# Ordenar las películas por puntaje de similitud en orden descendente\u001b[39;00m\n\u001b[0;32m     14\u001b[0m sim_scores \u001b[39m=\u001b[39m \u001b[39msorted\u001b[39m(sim_scores, key\u001b[39m=\u001b[39m\u001b[39mlambda\u001b[39;00m x: x[\u001b[39m1\u001b[39m], reverse\u001b[39m=\u001b[39m\u001b[39mTrue\u001b[39;00m)\n",
      "\u001b[1;31mNameError\u001b[0m: name 'cosine_sim' is not defined"
     ]
    }
   ],
   "source": [
    "recomendacion(\"Toy Story\")\n"
   ]
  }
 ],
 "metadata": {
  "kernelspec": {
   "display_name": "Python 3",
   "language": "python",
   "name": "python3"
  },
  "language_info": {
   "codemirror_mode": {
    "name": "ipython",
    "version": 3
   },
   "file_extension": ".py",
   "mimetype": "text/x-python",
   "name": "python",
   "nbconvert_exporter": "python",
   "pygments_lexer": "ipython3",
   "version": "3.11.1"
  },
  "orig_nbformat": 4
 },
 "nbformat": 4,
 "nbformat_minor": 2
}
